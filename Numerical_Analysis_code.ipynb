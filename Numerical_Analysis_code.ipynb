{
  "nbformat": 4,
  "nbformat_minor": 0,
  "metadata": {
    "colab": {
      "provenance": [],
      "authorship_tag": "ABX9TyNRPPLZm51GgPCjKpsxAMBw",
      "include_colab_link": true
    },
    "kernelspec": {
      "name": "python3",
      "display_name": "Python 3"
    },
    "language_info": {
      "name": "python"
    }
  },
  "cells": [
    {
      "cell_type": "markdown",
      "metadata": {
        "id": "view-in-github",
        "colab_type": "text"
      },
      "source": [
        "<a href=\"https://colab.research.google.com/github/nanodu2604/Numerical/blob/Math-small-tests-use-for-this-project/Numerical_Analysis_code.ipynb\" target=\"_parent\"><img src=\"https://colab.research.google.com/assets/colab-badge.svg\" alt=\"Open In Colab\"/></a>"
      ]
    },
    {
      "cell_type": "markdown",
      "source": [
        "# <font color=\"lightgreen\"> Numerical analysis\n"
      ],
      "metadata": {
        "id": "w-RPDz6xfLd_"
      }
    },
    {
      "cell_type": "markdown",
      "source": [
        "# <font color=\"red\"> System input processing after entering the function and interval<font>"
      ],
      "metadata": {
        "id": "i5aYzvto2YoL"
      }
    },
    {
      "cell_type": "code",
      "source": [
        "import math\n",
        "import numpy as np\n",
        "class Test:\n",
        "  num_token=None\n",
        "  interval_token=None\n",
        "  def __init__(self,expression,interval):\n",
        "    self.expression=expression\n",
        "    self.interval=interval\n",
        "    self._tokenize()\n",
        "  def f(self,x):\n",
        "    return eval(self.expression)\n",
        "  def _tokenize(self):\n",
        "    tokens=list(self.interval)\n",
        "    self.num_token=(float(tokens[1]),float(tokens[-2]))\n",
        "    self.interval_token=(tokens[0],tokens[1])\n",
        "  def check_interval(self,n):\n",
        "    if self.interval_token[0]==\"[\" and self.num_token[0]>n:\n",
        "      return False\n",
        "    if self.interval_token[0]==\"(\" and self.num_token[0]>=n:\n",
        "      return False\n",
        "    if self.interval_token[1]==\"]\" and self.num_token[1]<n:\n",
        "      return False\n",
        "    if self.interval_token[1]==\")\" and self.num_token[1]<=n:\n",
        "      return False\n",
        "    return True\n",
        "  def get_a(self):\n",
        "    return self.num_token[0]\n",
        "  def get_b(self):\n",
        "    return self.num_token[1]"
      ],
      "metadata": {
        "id": "p1qadglIqRuj"
      },
      "execution_count": null,
      "outputs": []
    },
    {
      "cell_type": "markdown",
      "source": [
        "# Test some methods"
      ],
      "metadata": {
        "id": "rwxuxGobiMpP"
      }
    },
    {
      "cell_type": "code",
      "execution_count": null,
      "metadata": {
        "id": "xhRJ3wa-fJhm",
        "colab": {
          "base_uri": "https://localhost:8080/"
        },
        "outputId": "3661858d-2dfb-41d1-e947-7d8e0b55d5dc"
      },
      "outputs": [
        {
          "name": "stdout",
          "output_type": "stream",
          "text": [
            "Please type a function: \n",
            "x+4\n",
            "Please type the interval:\n",
            "(3,5)\n"
          ]
        }
      ],
      "source": [
        "expresion=input(\"Please type a function: \\n\")\n",
        "interval=input(\"Please type the interval:\\n\")\n",
        "t=Test(expresion,interval)"
      ]
    },
    {
      "cell_type": "code",
      "source": [
        "t.check_interval(3.5)\n",
        "t.f(4)\n",
        "t.get_a()"
      ],
      "metadata": {
        "colab": {
          "base_uri": "https://localhost:8080/"
        },
        "id": "eA74kZmCvQcs",
        "outputId": "54e6d94c-7e8a-493f-ff2d-1ae9bc40ea30"
      },
      "execution_count": null,
      "outputs": [
        {
          "output_type": "execute_result",
          "data": {
            "text/plain": [
              "0.0"
            ]
          },
          "metadata": {},
          "execution_count": 62
        }
      ]
    },
    {
      "cell_type": "markdown",
      "source": [
        "# <font color=\"lightgreen\"> 1.Bisection method </font>"
      ],
      "metadata": {
        "id": "EFaqghMfT76f"
      }
    },
    {
      "cell_type": "code",
      "source": [
        "expresion=input(\"Please type a function: \\n\")\n",
        "interval=input(\"Please type the interval:\\n\")\n",
        "t=Test(expresion,interval)"
      ],
      "metadata": {
        "id": "aAzma789h7Fi"
      },
      "execution_count": null,
      "outputs": []
    },
    {
      "cell_type": "code",
      "source": [
        "def bisect(f,a,b,tol):\n",
        "    i=1\n",
        "    while tol<=((b-a)/2):\n",
        "        p=(a+b)/2\n",
        "        if (f(a)*f(p)>0) and (f(b)*f(p)<0):\n",
        "            a=p\n",
        "        elif (f(p)*f(b)>0) and (f(a)*f(p)<0):\n",
        "            b=p\n",
        "        elif (f(p)*f(b)==0):\n",
        "            return p\n",
        "        i+=1\n",
        "    return p,i"
      ],
      "metadata": {
        "id": "Ouf_MHC1TuXx"
      },
      "execution_count": null,
      "outputs": []
    },
    {
      "cell_type": "code",
      "source": [
        "bisect(t.f,t.get_a(),t.get_b(),10**-6)"
      ],
      "metadata": {
        "id": "VjgfZJL92qrx"
      },
      "execution_count": null,
      "outputs": []
    },
    {
      "cell_type": "markdown",
      "source": [
        "## <font color=\"cyan\">2. Fixed point method\n",
        "\n",
        "\n"
      ],
      "metadata": {
        "id": "Yvn_EGfwg7Es"
      }
    },
    {
      "cell_type": "code",
      "source": [
        "expresion=input(\"Please type a function: \\n\")\n",
        "interval=input(\"Please type the interval:\\n\")\n",
        "t=Test(expresion,interval)"
      ],
      "metadata": {
        "id": "BqvFLcMth-8P"
      },
      "execution_count": null,
      "outputs": []
    },
    {
      "cell_type": "code",
      "source": [
        "def fixpoint(f, N, tol, p0,a,b):\n",
        "    i = 1\n",
        "    while i <= N:\n",
        "        p = f(p0)\n",
        "        print(p)\n",
        "        if t.check_interval(p):\n",
        "          print(f\"Method yield no root in [{a},{b}]\")\n",
        "          return None\n",
        "        if abs(p - p0) < tol:\n",
        "            print(f\"Process successful within {i} iterations\")\n",
        "            return p  # return p instead of p0\n",
        "        else:\n",
        "            p0 = p\n",
        "            i += 1\n",
        "    print(\"Method fails\")\n",
        "    return None"
      ],
      "metadata": {
        "id": "DoSDe9W5gDZ3"
      },
      "execution_count": null,
      "outputs": []
    },
    {
      "cell_type": "code",
      "source": [
        "fixpoint(f=t.f,N=20,tol=10**(-6),p0=1,a=t.get_a(),b=t.get_b())"
      ],
      "metadata": {
        "id": "pEJe0RsigHJt",
        "colab": {
          "base_uri": "https://localhost:8080/"
        },
        "outputId": "6b16f934-f55d-48d4-f998-fa701eba50ce"
      },
      "execution_count": null,
      "outputs": [
        {
          "output_type": "stream",
          "name": "stdout",
          "text": [
            "-1\n",
            "5\n",
            "Method yield no root in [1.0,2.0]\n"
          ]
        }
      ]
    },
    {
      "cell_type": "markdown",
      "source": [
        "## <font color=\"cyan\">2. Newton method\n"
      ],
      "metadata": {
        "id": "JtoLAvehPPPD"
      }
    },
    {
      "cell_type": "markdown",
      "source": [],
      "metadata": {
        "id": "dvRJyRzU2BKE"
      }
    },
    {
      "cell_type": "code",
      "source": [
        "class Data_test:\n",
        "  def __init__(self,expression,x:list,y:list):\n",
        "    if y==None:\n",
        "      f=lambda x:eval(expression)\n",
        "      y=[f(i) for i in x]\n",
        "    if expression==None:\n",
        "    self.y=y\n",
        "    self.x=x"
      ],
      "metadata": {
        "colab": {
          "base_uri": "https://localhost:8080/",
          "height": 106
        },
        "id": "UcUTpunisUlY",
        "outputId": "3337b7f8-5fc2-4281-beae-d1815b6196ac"
      },
      "execution_count": null,
      "outputs": [
        {
          "output_type": "error",
          "ename": "SyntaxError",
          "evalue": "invalid syntax (<ipython-input-3-8fb11316090f>, line 2)",
          "traceback": [
            "\u001b[0;36m  File \u001b[0;32m\"<ipython-input-3-8fb11316090f>\"\u001b[0;36m, line \u001b[0;32m2\u001b[0m\n\u001b[0;31m    def __init__(self,expression,x:list,y=None:list):\u001b[0m\n\u001b[0m                                              ^\u001b[0m\n\u001b[0;31mSyntaxError\u001b[0m\u001b[0;31m:\u001b[0m invalid syntax\n"
          ]
        }
      ]
    },
    {
      "cell_type": "markdown",
      "source": [
        " ## <font color=\"cyan\">3. Lagrange interpolation method </font>"
      ],
      "metadata": {
        "id": "O9bYwSCYdVJd"
      }
    },
    {
      "cell_type": "code",
      "source": [
        "expresion=input(\"Please type a function: \\n\")\n",
        "interval=input(\"Please type the interval:\\n\")\n",
        "t=Test(expresion,interval)"
      ],
      "metadata": {
        "id": "iW1uCE4pik1S",
        "colab": {
          "base_uri": "https://localhost:8080/"
        },
        "outputId": "1cdc51f7-1d0c-4421-dcf8-8ab22f8a2331"
      },
      "execution_count": null,
      "outputs": [
        {
          "name": "stdout",
          "output_type": "stream",
          "text": [
            "Please type a function: \n",
            "(math.e)**x\n",
            "Please type the interval:\n",
            "[0,2]\n"
          ]
        }
      ]
    },
    {
      "cell_type": "code",
      "source": [
        "#work with data frame\n"
      ],
      "metadata": {
        "id": "L3JfHoiDIsIY"
      },
      "execution_count": null,
      "outputs": []
    },
    {
      "cell_type": "code",
      "source": [
        "# Lagrange interpolation is used by Vandermonde instead:\n",
        "def vandermonde(sols:list):\n",
        "  mat=[]\n",
        "  for e in sols:\n",
        "    row=[1]\n",
        "    for i in range(1,len(sols)):\n",
        "      row.append(e**i)\n",
        "    mat.append(row)\n",
        "  return np.array(mat)"
      ],
      "metadata": {
        "id": "bUaKlD0Cd1jk"
      },
      "execution_count": null,
      "outputs": []
    },
    {
      "cell_type": "code",
      "source": [
        "def interpolation_polynomial(x:list,y=None):\n",
        "  if y is None:\n",
        "    y=[]\n",
        "  for i in (x):\n",
        "    y.append(t.f(i))\n",
        "  arr_x=vandermonde(x)\n",
        "  arr_y=np.array(y)\n",
        "  inverse_x = np.linalg.inv(arr_x)\n",
        "  return np.flip(inverse_x@arr_y)"
      ],
      "metadata": {
        "id": "AuuiclhkitGX"
      },
      "execution_count": null,
      "outputs": []
    },
    {
      "cell_type": "code",
      "source": [
        "print(np.poly1d(interpolation_polynomial([0,1,2])))"
      ],
      "metadata": {
        "colab": {
          "base_uri": "https://localhost:8080/"
        },
        "id": "-WpLCKZBoBzg",
        "outputId": "c2083657-cce3-49d2-cc13-cb213a7b9114"
      },
      "execution_count": null,
      "outputs": [
        {
          "output_type": "stream",
          "name": "stdout",
          "text": [
            "       2\n",
            "1.476 x + 0.242 x + 1\n"
          ]
        }
      ]
    },
    {
      "cell_type": "code",
      "source": [
        "x=np.linspace(t.get_a(),t.get_b(),1000)\n",
        "y=np.polyval(interpolation_polynomial([0,0.6,0.9]),x)\n",
        "y1=np.array(list(map(lambda x:t.f(x),x)))"
      ],
      "metadata": {
        "id": "MTyKHzmhODFg"
      },
      "execution_count": null,
      "outputs": []
    },
    {
      "cell_type": "code",
      "source": [
        "import matplotlib.pyplot as plt\n",
        "plt.plot(x,y,\".-\")\n",
        "plt.plot(x,y1,\".-\");"
      ],
      "metadata": {
        "colab": {
          "base_uri": "https://localhost:8080/",
          "height": 430
        },
        "id": "HI_91261C-xp",
        "outputId": "bb997492-45ff-4475-f819-5bc53881ec76"
      },
      "execution_count": null,
      "outputs": [
        {
          "output_type": "display_data",
          "data": {
            "text/plain": [
              "<Figure size 640x480 with 1 Axes>"
            ],
            "image/png": "[encoded data removed]"
          },
          "metadata": {}
        }
      ]
    },
    {
      "cell_type": "markdown",
      "source": [
        ":$$x=16(\\sin(t))^3$$\n",
        "$$y= 13\\cos{t} - 5\\cos{2t} - 2.0\\cos{3t} - \\cos{4t}$$"
      ],
      "metadata": {
        "id": "lxJ1pc5gVyLF"
      }
    },
    {
      "cell_type": "code",
      "source": [],
      "metadata": {
        "id": "5f78S1Y_VxyT"
      },
      "execution_count": null,
      "outputs": []
    }
  ]
}