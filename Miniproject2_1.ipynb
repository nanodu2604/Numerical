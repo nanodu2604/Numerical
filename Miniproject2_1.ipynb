{
  "cells": [
    {
      "cell_type": "markdown",
      "metadata": {
        "id": "view-in-github",
        "colab_type": "text"
      },
      "source": [
        "<a href=\"https://colab.research.google.com/github/nanodu2604/Numerical/blob/Math-small-tests-use-for-this-project/Miniproject2_1.ipynb\" target=\"_parent\"><img src=\"https://colab.research.google.com/assets/colab-badge.svg\" alt=\"Open In Colab\"/></a>"
      ]
    },
    {
      "cell_type": "code",
      "execution_count": null,
      "metadata": {
        "id": "DR4NmwtRnsIA"
      },
      "outputs": [],
      "source": [
        "import numpy as np\n",
        "import math\n",
        "import sympy as sp"
      ]
    },
    {
      "cell_type": "markdown",
      "metadata": {
        "id": "IfACHeA0CMoX"
      },
      "source": [
        "# <font color=\"lightgreen\"> Forward difference formula\n",
        "$f'(x)≈\\frac{f(x+h)-f(x)}{h}$"
      ]
    },
    {
      "cell_type": "code",
      "execution_count": null,
      "metadata": {
        "id": "WwndIwoiHEVS"
      },
      "outputs": [],
      "source": [
        "def f(x):\n",
        "  return math.sin(x) # Defines f(x) as Sin(x)"
      ]
    },
    {
      "cell_type": "code",
      "execution_count": null,
      "metadata": {
        "id": "38wN_WBq8nlZ"
      },
      "outputs": [],
      "source": [
        "def error(act, approx): # (Actual answer, approximate answer)\n",
        "  return abs(act - approx) # Yields the absolute error"
      ]
    },
    {
      "cell_type": "code",
      "execution_count": null,
      "metadata": {
        "id": "Mndyq4Vorv5f"
      },
      "outputs": [],
      "source": [
        "def actual_derivative(f , x): # (function, variable)\n",
        "  s=sp.symbols('x') # Set s to be equal to x\n",
        "  f=sp.sympify(f)   # Set f to be equal to the function you are finding the derivative of\n",
        "  derivative=sp.diff(f,s) # Finds the derivative of f(s) which is equal to the derivative of f(x)\n",
        "  return derivative.subs(s,x).evalf() # Plug in the known values of x into the derivative to get the particular constant"
      ]
    },
    {
      "cell_type": "code",
      "execution_count": null,
      "metadata": {
        "id": "kvhknOr4fBoc"
      },
      "outputs": [],
      "source": [
        "def forward_diff(f,x,h,n): # (function, variable, step size, number of iterations)\n",
        "    x_list=[x] # Create a list of the x value\n",
        "    f_list=[] # Create a list of the function associated with x value\n",
        "    fprime=[] # Create a list for the final approximated answer\n",
        "    for i in range(n): # For n number of iterations\n",
        "      f_list.append(f(x)) # Add y = f(x) to the f list\n",
        "      x+=h # Increase your x by your step size\n",
        "      x_list.append(x) # Add the altered x to the x list\n",
        "    for i in range(n-1): # For n - 1 number of iterations\n",
        "      fprime.append((x_list[i],(f_list[i+1]-f_list[i])/(h))) # plug in x + h, x, and h into the Forward difference formula\n",
        "    return fprime # Return final approximated answer"
      ]
    },
    {
      "cell_type": "code",
      "execution_count": null,
      "metadata": {
        "colab": {
          "base_uri": "https://localhost:8080/"
        },
        "id": "2WqQe5L89Qzy",
        "outputId": "1184c186-2cb1-4f6e-fe77-2582e1d5efc7"
      },
      "outputs": [
        {
          "name": "stdout",
          "output_type": "stream",
          "text": [
            "x0=0.7853981633974483, f'(x0)=0.7035594916891985, error from actual:0.00354728949734906\n",
            "x1=0.7953981633974483, f'(x1)=0.6964181274398351, error from actual:0.0106886537467125\n",
            "x2=0.8053981633974483, f'(x2)=0.6892071219580687, error from actual:0.0178996592284789\n",
            "x3=0.8153981633974483, f'(x3)=0.6819271963384499, error from actual:0.0251795848480977\n"
          ]
        }
      ],
      "source": [
        "list_error=[] # Create a list for the error\n",
        "p_n=forward_diff(f, (math.pi)/4, 0.01, 5) # Use the forward difference method to approximate the first derivative of\n",
        "                                          # f(x) = sin(x) at x = 0.25π, with a step size h = 0.01\n",
        "p=actual_derivative(\"sin(x)\",math.pi/4) # Calculate the actual value of the first derivative of  f(x) = sin(x) at x = 0.25π\n",
        "for p_i in p_n: # For each approximated f(x) you have found\n",
        "  list_error.append(error(p,p_i[1])) # Add the error value of a particular approximated f(x) to the error list\n",
        "for i in range(len(p_n)): # For each approximated f(x_i) you have found such that 0 =< i < n\n",
        "  print(f\"x{i}={p_n[i][0]}, f'(x{i})={p_n[i][1]}, error from actual:{list_error[i]}\")\n",
        "  # Print the value of x + ih, [f(x + ih + h) - f(x + ih)]/h, and |f'(x + ih) - [f(x + ih + h) - f(x + ih)]/h|"
      ]
    },
    {
      "cell_type": "markdown",
      "metadata": {
        "id": "0o8hUQNP1bgw"
      },
      "source": [
        "# <font color=\"lightgreen\">Backward difference formula\n",
        "$f'(x)=\\frac{f(x)-f(x-h)}{h}$"
      ]
    },
    {
      "cell_type": "code",
      "execution_count": null,
      "metadata": {
        "id": "pRtvPN-TIldc"
      },
      "outputs": [],
      "source": [
        "def f(x):\n",
        "  return math.sin(x) # Defines f(x) as Sin(x)"
      ]
    },
    {
      "cell_type": "code",
      "execution_count": null,
      "metadata": {
        "id": "KAa1EEcQI2QX"
      },
      "outputs": [],
      "source": [
        "def error(act, approx):  # (Actual answer, approximate answer)\n",
        "  return abs(act - approx) # Yields the absolute error"
      ]
    },
    {
      "cell_type": "code",
      "execution_count": null,
      "metadata": {
        "id": "6FJCDRpHSOJp"
      },
      "outputs": [],
      "source": [
        "def actual_derivative(f, x): # (function, variable)\n",
        "  s=sp.symbols('x') # Set s to be equal to x\n",
        "  f=sp.sympify(f) # Set f to be equal to the function you are finding the derivative of\n",
        "  derivative=sp.diff(f,s) # Finds the derivative of f(s) which is equal to the derivative of f(x)\n",
        "  return derivative.subs(s,x).evalf() # Plug in the known values of x into the derivative to get the particular constant"
      ]
    },
    {
      "cell_type": "code",
      "execution_count": null,
      "metadata": {
        "id": "HR6htmsV17KF"
      },
      "outputs": [],
      "source": [
        "def backward_diff(f,x,h,n): # (function, variable, step size, number of iterations)\n",
        "    x_list=[x] # Create a list of the x value\n",
        "    f_list=[] # Create a list of the function associated with x value\n",
        "    fprime=[] # Create a list for the final approximated answer\n",
        "    for i in range(n): # For n number of iterations\n",
        "      f_list.append(f(x)) # Add y = f(x) to the f list\n",
        "      x-=h # Decrease your x by your step size\n",
        "      x_list.append(x) # Add the altered x to the x list\n",
        "    for i in range(n-1): # For n - 1 number of iterations\n",
        "      fprime.append((x_list[i],(f_list[i]-f_list[i+1])/(h))) # plug in x, x - h, and h into the Forward difference formula\n",
        "    return fprime # Return final approximated answer"
      ]
    },
    {
      "cell_type": "code",
      "execution_count": null,
      "metadata": {
        "colab": {
          "base_uri": "https://localhost:8080/"
        },
        "id": "JqoCF6yKJDGs",
        "outputId": "0a600f5f-57d5-4530-94ed-f3dffd3e3d96"
      },
      "outputs": [
        {
          "name": "stdout",
          "output_type": "stream",
          "text": [
            "x0=0.7853981633974483,f(x0)=0.7106305005757152,error from atual:0.00352371938916762\n",
            "x1=0.7753981633974483,f(x1)=0.7176304470043249,error from atual:0.0105236658177773\n",
            "x2=0.7653981633974483,f(x2)=0.7245586309862828,error from atual:0.0174518497997352\n",
            "x3=0.7553981633974483,f(x3)=0.7314143597089373,error from atual:0.0243075785223897\n"
          ]
        }
      ],
      "source": [
        "list_error=[] # Create a list for the error\n",
        "p_n=backward_diff(f,(math.pi)/4, 0.01, 5) # Use the forward difference method to approximate the first derivative of\n",
        "                                          # f(x) = sin(x) at x = 0.25π, with a step size h = 0.01\n",
        "p=actual_derivative(\"sin(x)\",math.pi/4)  # Calculate the actual value of the first derivative of  f(x) = sin(x) at x = 0.25π\n",
        "for p_i in p_n: # For each approximated f(x) you have found\n",
        "  list_error.append(error(p,p_i[1])) # Add the error value of a particular approximated f(x) to the error list\n",
        "for i in range(len(p_n)): # For each approximated f(x_i) you have found such that 0 =< i < n\n",
        "  print(f\"x{i}={p_n[i][0]},f(x{i})={p_n[i][1]},error from atual:{list_error[i]}\")\n",
        "# Print the value of x - ih, [f(x - ih) - f(x - ih - h)]/h, and |f'(x - ih) - [f(x - ih) - f(x - ih - h)]/h|"
      ]
    },
    {
      "cell_type": "markdown",
      "metadata": {
        "id": "evZOzXlEZ0KX"
      },
      "source": [
        "# <font color=\"lightgreen\">Trapezoidal rule\n",
        "$∫^{a}_{b}{f(x)}dx≈T_n=\\frac{b-a}{2n}[f(x_0)+2f(x_1)+2f(x_2)+...+2f(x_{n-1})+f(x_n)]$"
      ]
    },
    {
      "cell_type": "code",
      "execution_count": null,
      "metadata": {
        "id": "OGzULJ1QQAKa"
      },
      "outputs": [],
      "source": [
        "def f(x):\n",
        "  return math.sin(x**2)  # Defines f(x) as Sin(x^2)"
      ]
    },
    {
      "cell_type": "code",
      "execution_count": null,
      "metadata": {
        "id": "8VjAUaJny9BP"
      },
      "outputs": [],
      "source": [
        "# approach1: Use formula\n",
        "def trapezoidal_rule_v1(f,a,b,n): # (function, a value, b value, number of trapezoids)\n",
        "    x=[b-i*(b-a)/n for i in range(n+1)] # find all the x_i needed, starting at i = n and going until i = 0\n",
        "    y=[f(i) for i in x] # Find all the f(x_i) by plugging in every x_i found\n",
        "    sum=y[0]+y[-1] # Add f(x_0) and f(x_n) together to\n",
        "    for i in range(1,n-1): # For all f(x_i) such that 0 < i < n\n",
        "        sum+=2*y[i] # Double it and add it to the sum of f(x_0) and f(x_n)\n",
        "    return sum*(b-a)/(2*n) # Mutiple the total sum above by h/2"
      ]
    },
    {
      "cell_type": "code",
      "execution_count": null,
      "metadata": {
        "id": "AxpT9OPmY1pa"
      },
      "outputs": [],
      "source": [
        "# approach2: Use library\n",
        "def trapezoidal_rule(f,a,b,n):\n",
        "  x=np.linspace(a,b,n+1)\n",
        "  y=f(x)\n",
        "  return np.trapz(y,x)"
      ]
    },
    {
      "cell_type": "code",
      "execution_count": null,
      "metadata": {
        "id": "nrIIIdYhQP6a"
      },
      "outputs": [],
      "source": [
        "def actual_integral(f , a, b): #(function, a value, b value)\n",
        "  s=sp.symbols('x') # Set s to be equal to x\n",
        "  f=sp.sympify(f) # Set f to be equal to the function you are finding the integral of\n",
        "  integral=sp.integrate(f,(s,a,b)) # Finds the integral of f(s) for a =< s =< b\n",
        "                                   # which is equal to the integral of f(x) for a =< x =< b\n",
        "  return integral.evalf() # # Plug in the known values of x into the integral to get the particular constant"
      ]
    },
    {
      "cell_type": "code",
      "execution_count": null,
      "metadata": {
        "id": "1FyzQZfiQgs2"
      },
      "outputs": [],
      "source": [
        "def error(act , approx): # (Actual answer, approximate answer)\n",
        "  return abs(act - approx) # Yields the absolute error"
      ]
    },
    {
      "cell_type": "code",
      "execution_count": null,
      "metadata": {
        "colab": {
          "base_uri": "https://localhost:8080/"
        },
        "id": "Y-xi75KwQihR",
        "outputId": "666c0b40-63da-4143-b866-1ea3cef78a0e"
      },
      "outputs": [
        {
          "name": "stdout",
          "output_type": "stream",
          "text": [
            "Exact:0.310268301723381\n",
            "Approximate:0.3101708278836145\n",
            "Error:0.0000974738397666042\n"
          ]
        }
      ],
      "source": [
        "p=actual_integral(\"sin(x**2)\", 0 , 1) # Set p to equal the actual integral of function (in this case sin(x**2)) for 0 =< x =< 1\n",
        "print(f\"Exact:{p}\") # Print exact answer for function (in this case sin(x**2), where 0 =< x =< 1)\n",
        "p_n=trapezoidal_rule_v1(f, 0, 1, 10) # Approximate f(x) via trapezoidal rule where a = 0, b = 1, and N = 10\n",
        "print(f\"Approximate:{p_n}\") # Print the approximated answer for function (in this case sin(x**2), where 0 =< x =< 1)\n",
        "print(f\"Error:{error(p,p_n)}\") # Print the absolute error between the actual and approximated answer"
      ]
    },
    {
      "cell_type": "code",
      "execution_count": null,
      "metadata": {
        "id": "UBzKI6iaMWi0"
      },
      "outputs": [],
      "source": []
    }
  ],
  "metadata": {
    "colab": {
      "provenance": [],
      "include_colab_link": true
    },
    "kernelspec": {
      "display_name": "Python 3 (ipykernel)",
      "language": "python",
      "name": "python3"
    },
    "language_info": {
      "codemirror_mode": {
        "name": "ipython",
        "version": 3
      },
      "file_extension": ".py",
      "mimetype": "text/x-python",
      "name": "python",
      "nbconvert_exporter": "python",
      "pygments_lexer": "ipython3",
      "version": "3.11.4"
    }
  },
  "nbformat": 4,
  "nbformat_minor": 0
}